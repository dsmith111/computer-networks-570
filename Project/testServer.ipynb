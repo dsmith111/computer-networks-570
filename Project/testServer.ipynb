{
 "cells": [
  {
   "cell_type": "code",
   "execution_count": 123,
   "source": [
    "import socket\n",
    "import random\n",
    "import numpy as np"
   ],
   "outputs": [],
   "metadata": {}
  },
  {
   "cell_type": "code",
   "execution_count": 127,
   "source": [
    "def buildPacket(sync = 0, ack = 0, fin = 0, seqNum = 0, ackNum = 0, payload = 0):\n",
    "    flags = f\"000{ack}00{sync}{fin}\"\n",
    "    stringPacket = flags + f\"{seqNum:032b}\" + f\"{ackNum:032b}\" + f\"{payload:01024b}\"\n",
    "    listPacket = np.array([val for val in stringPacket]).reshape(int(len(stringPacket)/8),8)\n",
    "    intPacket = [int(\"\".join(listByte), base = 2) for listByte in listPacket]\n",
    "\n",
    "    return intPacket"
   ],
   "outputs": [],
   "metadata": {}
  },
  {
   "cell_type": "code",
   "execution_count": 135,
   "source": [
    "def reconstructHeader(packet, low, high):\n",
    "    headerVal = int(\"\".join([f\"{packByte:08b}\" for packByte in packet[low:high]]), base = 2)\n",
    "    return headerVal"
   ],
   "outputs": [],
   "metadata": {}
  },
  {
   "cell_type": "code",
   "execution_count": 137,
   "source": [
    "def separateData(packet):\n",
    "    stringPacket = [f\"{packByte:08b}\" for packByte in packet]\n",
    "    flags = stringPacket[0]\n",
    "    seqNum = int(\"\".join(stringPacket[1:5]), base = 2)\n",
    "    ackNum = int(\"\".join(stringPacket[5:9]), base = 2)\n",
    "    payload = \"\".join(stringPacket[9:])\n",
    "    return (flags, seqNum, ackNum, payload)\n"
   ],
   "outputs": [],
   "metadata": {}
  },
  {
   "cell_type": "code",
   "execution_count": 181,
   "source": [
    "def decipherMessage(message):\n",
    "    msgBytes = np.array([char for char in message]).reshape(int(len(message)/8), 8)\n",
    "    letters = [chr(int(\"\".join(msgByte), base = 2)) for msgByte in msgBytes if chr(int(\"\".join(msgByte), base = 2)) != \"\\x00\"]\n",
    "    return \"\".join(letters)"
   ],
   "outputs": [],
   "metadata": {}
  },
  {
   "cell_type": "code",
   "execution_count": 184,
   "source": [
    "with socket.socket(socket.AF_INET, socket.SOCK_STREAM) as s:\n",
    "    s.bind((\"localhost\", 8001))\n",
    "    s.listen()\n",
    "    while True:\n",
    "        cnt = 0\n",
    "        conn, adr = s.accept()\n",
    "        with conn:\n",
    "            print(f\"Connected to {adr}\")\n",
    "\n",
    "            seqNum = 0\n",
    "            ackNum = 1\n",
    "            totalPayload = \"\"\n",
    "\n",
    "            # Receive Sync Request\n",
    "            syncReq = conn.recv(2048)\n",
    "            sync = int(f\"{syncReq[0]:08b}\"[6])\n",
    "\n",
    "            if sync:\n",
    "                print(\"Client wants to synchronize\")\n",
    "            else:\n",
    "                conn.close()\n",
    "                break\n",
    "\n",
    "            # Accept Sync Request\n",
    "            ack = buildPacket(sync=1, ack=1, ackNum=ackNum, seqNum=seqNum)\n",
    "            seqNum += 1\n",
    "            conn.send(bytes(ack))\n",
    "\n",
    "            # Receive Sync Ack\n",
    "            syncAck = int(f\"{conn.recv(2048)[0]:08b}\"[3])\n",
    "            if (syncAck):\n",
    "                print(\"Ready to receive data\")\n",
    "\n",
    "            else:\n",
    "                conn.close()\n",
    "                break            \n",
    "\n",
    "\n",
    "\n",
    "            while True:\n",
    "                failRate = random.random()\n",
    "                \n",
    "                # Receive Data\n",
    "                print(\"waiting for data\")\n",
    "                packet = conn.recv(2048)\n",
    "                print(\"processing data\")\n",
    "                clFlags, clSeqNum, clAckNum, payloadPiece = separateData(packet)\n",
    "                fin = int(clFlags[-1])\n",
    "                \n",
    "                if fin:\n",
    "                    print(\"Client is finished sending data\")\n",
    "                    conn.close()\n",
    "                    break\n",
    "                \n",
    "                ackNum += len(packet)\n",
    "                totalPayload += payloadPiece\n",
    "                \n",
    "                # Send Acknowledgement\n",
    "                print(\"ack\", ackNum)\n",
    "                ack = buildPacket(ack=1, ackNum=ackNum, seqNum=seqNum)\n",
    "                conn.send(bytes(ack))\n",
    "\n",
    "                # # Data\n",
    "                # msg_bit = bytearray(conn.recv(2048))\n",
    "\n",
    "                # if not msg_bit:\n",
    "                #     break\n",
    "\n",
    "                print(f\"cnt: {cnt} >>> {payloadPiece}\")\n",
    "                cnt += 1\n",
    "\n",
    "                # cnt += 1\n",
    "\n",
    "                # if failRate < .5:\n",
    "                #     print(msg_bit[-1])\n",
    "\n",
    "                #     lBin = int(bin(msg_bit[-1])[2:]) ^ 11\n",
    "                #     print(lBin)\n",
    "\n",
    "                #     lBin = int('0b' + str(lBin), base=2)\n",
    "                #     print(lBin)\n",
    "\n",
    "                #     # msg_bit = msg_bit[:-2] + b'FF'\n",
    "                #     msg_bit.pop()\n",
    "                #     msg_bit.append(lBin)\n",
    "                #     print(\"Flipped bit\", msg_bit)\n",
    "                #     # print(altm.decode())\n",
    "\n",
    "                # # conn.send(bytes(\"ack\".encode(\"ascii\", errors=\"ignore\")))\n",
    "                # conn.send(msg_bit)\n",
    "\n",
    "                # msg += msg_bit\n",
    "                # if cnt > 3:\n",
    "                # break\n",
    "\n",
    "            # conn.sendall(msg)\n",
    "            # with open(\"recImage.jpg\", \"wb\") as jpg:\n",
    "                # jpg.write(msg)\n",
    "\n",
    "        print(decipherMessage(totalPayload))\n",
    "        break\n"
   ],
   "outputs": [
    {
     "output_type": "stream",
     "name": "stdout",
     "text": [
      "Connected to ('127.0.0.1', 8081)\n",
      "Client wants to synchronize\n",
      "Ready to receive data\n",
      "waiting for data\n",
      "processing data\n",
      "ack 138\n",
      "cnt: 0 >>> 0000000000000000000000000000000000000000000000000000000000000000000000000000000000000000000000000000000000000000000000000000000000000000000000000000000000000000000000000000000000000000000000000000000000000000000000000000000000000000000000000000000000000000000000000000000000000000000000000000000000000000000000000000000000000000000000000000000000000000000000000000000000000000000000000000000000000000000000000000000000000000000000000000000000000000000000000000000000000000000000000000000000000000000000000000000000000000000000000000000000000000000000000000000000000000000000000000000000000000000000000000000000000000000000000000000000000000000000000000000000000000000000000000000000000000000000000000000000000000000000000000000000000000000000000000000000000000000000000000000000000000000000000000000000000000000000000000000000000000000000000000000000000000000000000000000000000000000000000000000000000000000000000000000000000000011010000110010101101100011011000110111100100000011101110110111101110010011011000110010000100001\n",
      "waiting for data\n",
      "processing data\n",
      "Client is finished sending data\n",
      "hello world!\n"
     ]
    }
   ],
   "metadata": {}
  },
  {
   "cell_type": "code",
   "execution_count": 180,
   "source": [],
   "outputs": [
    {
     "output_type": "execute_result",
     "data": {
      "text/plain": [
       "'\\x00'"
      ]
     },
     "metadata": {},
     "execution_count": 180
    }
   ],
   "metadata": {}
  },
  {
   "cell_type": "code",
   "execution_count": 161,
   "source": [
    "s.close()"
   ],
   "outputs": [],
   "metadata": {}
  },
  {
   "cell_type": "code",
   "execution_count": 22,
   "source": [
    "# Generate random number in the range of 0 to 10\n",
    "while True:\n",
    "    num = random.randint(0,10)\n",
    "\n",
    "    msg, adr = s.recvfrom(2048)\n",
    "    print(f\"[{cnt}]: {adr} >> {msg}\")\n",
    "    cnt += 1\n",
    "\n",
    "    # If rand is less is than 2, the packet got errors by inverting the last two bits\n",
    "    if num < 2:\n",
    "        msg = msg[:-2] + b'FF'\n",
    "    \n",
    "    # Otherwise, the server responds\n",
    "    s.sendto(msg, adr)\n",
    "    if num < 2:\n",
    "        print(f\"Message with errors sent to {adr}\")\n",
    "    else:\n",
    "        print(f\"Message sent back normally {adr}\")\n",
    "\n",
    "    "
   ],
   "outputs": [
    {
     "output_type": "error",
     "ename": "KeyboardInterrupt",
     "evalue": "",
     "traceback": [
      "\u001b[0;31m---------------------------------------------------------------------------\u001b[0m",
      "\u001b[0;31mKeyboardInterrupt\u001b[0m                         Traceback (most recent call last)",
      "\u001b[0;32m<ipython-input-22-1a8e72191984>\u001b[0m in \u001b[0;36m<module>\u001b[0;34m\u001b[0m\n\u001b[1;32m      3\u001b[0m     \u001b[0mnum\u001b[0m \u001b[0;34m=\u001b[0m \u001b[0mrandom\u001b[0m\u001b[0;34m.\u001b[0m\u001b[0mrandint\u001b[0m\u001b[0;34m(\u001b[0m\u001b[0;36m0\u001b[0m\u001b[0;34m,\u001b[0m\u001b[0;36m10\u001b[0m\u001b[0;34m)\u001b[0m\u001b[0;34m\u001b[0m\u001b[0;34m\u001b[0m\u001b[0m\n\u001b[1;32m      4\u001b[0m \u001b[0;34m\u001b[0m\u001b[0m\n\u001b[0;32m----> 5\u001b[0;31m     \u001b[0mmsg\u001b[0m\u001b[0;34m,\u001b[0m \u001b[0madr\u001b[0m \u001b[0;34m=\u001b[0m \u001b[0ms\u001b[0m\u001b[0;34m.\u001b[0m\u001b[0mrecvfrom\u001b[0m\u001b[0;34m(\u001b[0m\u001b[0;36m2048\u001b[0m\u001b[0;34m)\u001b[0m\u001b[0;34m\u001b[0m\u001b[0;34m\u001b[0m\u001b[0m\n\u001b[0m\u001b[1;32m      6\u001b[0m     \u001b[0mprint\u001b[0m\u001b[0;34m(\u001b[0m\u001b[0;34mf\"[{cnt}]: {adr} >> {msg}\"\u001b[0m\u001b[0;34m)\u001b[0m\u001b[0;34m\u001b[0m\u001b[0;34m\u001b[0m\u001b[0m\n\u001b[1;32m      7\u001b[0m     \u001b[0mcnt\u001b[0m \u001b[0;34m+=\u001b[0m \u001b[0;36m1\u001b[0m\u001b[0;34m\u001b[0m\u001b[0;34m\u001b[0m\u001b[0m\n",
      "\u001b[0;31mKeyboardInterrupt\u001b[0m: "
     ]
    }
   ],
   "metadata": {}
  },
  {
   "cell_type": "code",
   "execution_count": 83,
   "source": [
    "s.close()"
   ],
   "outputs": [],
   "metadata": {}
  },
  {
   "cell_type": "code",
   "execution_count": 7,
   "source": [
    "# Receive the client packet along with the address it is coming from\n",
    "connection, addr = s.accept()  "
   ],
   "outputs": [],
   "metadata": {}
  },
  {
   "cell_type": "code",
   "execution_count": 8,
   "source": [
    "# If rand is less is than 2, the packet got errors by inverting the last two bits\n",
    "if num < 2:\n",
    "    # Inver last 2 bits\n",
    "    pass"
   ],
   "outputs": [],
   "metadata": {}
  },
  {
   "cell_type": "code",
   "execution_count": null,
   "source": [
    "# Otherwise, the server responds\n"
   ],
   "outputs": [],
   "metadata": {}
  }
 ],
 "metadata": {
  "orig_nbformat": 4,
  "language_info": {
   "name": "python",
   "version": "3.7.3",
   "mimetype": "text/x-python",
   "codemirror_mode": {
    "name": "ipython",
    "version": 3
   },
   "pygments_lexer": "ipython3",
   "nbconvert_exporter": "python",
   "file_extension": ".py"
  },
  "kernelspec": {
   "name": "python3",
   "display_name": "Python 3.7.3 64-bit"
  },
  "interpreter": {
   "hash": "31f2aee4e71d21fbe5cf8b01ff0e069b9275f58929596ceb00d14d90e3e16cd6"
  }
 },
 "nbformat": 4,
 "nbformat_minor": 2
}