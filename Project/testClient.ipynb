{
 "cells": [
  {
   "cell_type": "code",
   "execution_count": 104,
   "source": [
    "import socket\n",
    "import random\n",
    "import numpy as np\n",
    "import matplotlib.pyplot as plt\n",
    "import time"
   ],
   "outputs": [],
   "metadata": {}
  },
  {
   "cell_type": "code",
   "execution_count": 159,
   "source": [
    "image = []\n",
    "\n",
    "with open(\"umdlogo.jpg\", \"rb\") as jpg:\n",
    "    \n",
    "    while True:\n",
    "        image = jpg.read()\n",
    "        break\n",
    "        # byteLine = jpg.readline()\n",
    "        # if byteLine:\n",
    "\n",
    "        #     image.append(byteLine)\n",
    "        # else:\n",
    "        #     break"
   ],
   "outputs": [],
   "metadata": {}
  },
  {
   "cell_type": "code",
   "execution_count": 352,
   "source": [
    "test = \"hello world!\"\n",
    "empty = \"\"\n",
    "for character in test:\n",
    "    empty += f\"{(ord(character)):08b}\""
   ],
   "outputs": [],
   "metadata": {}
  },
  {
   "cell_type": "code",
   "execution_count": 354,
   "source": [
    "int(empty,base=2)"
   ],
   "outputs": [
    {
     "output_type": "execute_result",
     "data": {
      "text/plain": [
       "32309054545037006034346730529"
      ]
     },
     "metadata": {},
     "execution_count": 354
    }
   ],
   "metadata": {}
  },
  {
   "cell_type": "code",
   "execution_count": 355,
   "source": [
    "def strToBin(msg: str):\n",
    "    binRep = \"\"\n",
    "\n",
    "    for character in msg:\n",
    "        binRep += f\"{(ord(character)):08b}\"\n",
    "\n",
    "    return binRep"
   ],
   "outputs": [],
   "metadata": {}
  },
  {
   "cell_type": "code",
   "execution_count": 362,
   "source": [
    "int(strToBin(\"hello\")[0:4], base=2)"
   ],
   "outputs": [
    {
     "output_type": "execute_result",
     "data": {
      "text/plain": [
       "6"
      ]
     },
     "metadata": {},
     "execution_count": 362
    }
   ],
   "metadata": {}
  },
  {
   "cell_type": "code",
   "execution_count": 348,
   "source": [
    "def separateData(packet):\n",
    "    stringPacket = [f\"{packByte:08b}\" for packByte in packet]\n",
    "    flags = stringPacket[0]\n",
    "    seqNum = int(\"\".join(stringPacket[1:5]), base = 2)\n",
    "    ackNum = int(\"\".join(stringPacket[5:9]), base = 2)\n",
    "    payload = \"\".join(stringPacket[9:])\n",
    "    return (flags, seqNum, ackNum, payload)\n"
   ],
   "outputs": [],
   "metadata": {}
  },
  {
   "cell_type": "code",
   "execution_count": 340,
   "source": [
    "def buildPacket(sync = 0, ack = 0, fin = 0, seqNum = 0, ackNum = 0, payload = 0):\n",
    "    flags = f\"000{ack}00{sync}{fin}\"\n",
    "    stringPacket = flags + f\"{seqNum:032b}\" + f\"{ackNum:032b}\" + f\"{payload:01024b}\"\n",
    "    listPacket = np.array([val for val in stringPacket]).reshape(int(len(stringPacket)/8),8)\n",
    "    intPacket = [int(\"\".join(listByte), base = 2) for listByte in listPacket]\n",
    "\n",
    "    return intPacket"
   ],
   "outputs": [],
   "metadata": {}
  },
  {
   "cell_type": "code",
   "execution_count": 344,
   "source": [
    "def reconstructHeader(packet, low, high):\n",
    "    headerVal = int(\"\".join([f\"{packByte:08b}\" for packByte in packet[low:high]]), base = 2)\n",
    "    return headerVal"
   ],
   "outputs": [],
   "metadata": {}
  },
  {
   "cell_type": "code",
   "execution_count": 377,
   "source": [
    "test = strToBin(\"hello\")\n",
    "a,b,c, test = separateData(bytes(buildPacket(payload=int(test, base=2))))\n",
    "print(test)"
   ],
   "outputs": [
    {
     "output_type": "stream",
     "name": "stdout",
     "text": [
      "0000000000000000000000000000000000000000000000000000000000000000000000000000000000000000000000000000000000000000000000000000000000000000000000000000000000000000000000000000000000000000000000000000000000000000000000000000000000000000000000000000000000000000000000000000000000000000000000000000000000000000000000000000000000000000000000000000000000000000000000000000000000000000000000000000000000000000000000000000000000000000000000000000000000000000000000000000000000000000000000000000000000000000000000000000000000000000000000000000000000000000000000000000000000000000000000000000000000000000000000000000000000000000000000000000000000000000000000000000000000000000000000000000000000000000000000000000000000000000000000000000000000000000000000000000000000000000000000000000000000000000000000000000000000000000000000000000000000000000000000000000000000000000000000000000000000000000000000000000000000000000000000000000000000000000000000000000000000000000000000000000000000000000000000000110100001100101011011000110110001101111\n"
     ]
    }
   ],
   "metadata": {}
  },
  {
   "cell_type": "code",
   "execution_count": 411,
   "source": [
    "with socket.socket(socket.AF_INET, socket.SOCK_STREAM) as s:\n",
    "    s.bind((\"localhost\", 8081))\n",
    "    s.connect((\"localhost\", 8001))\n",
    "    msg_send = input(\"Enter a message\")\n",
    "    msgBin = strToBin(msg_send)\n",
    "\n",
    "    # Define packet\n",
    "    flags = b'00000000'\n",
    "    seqNum = 0\n",
    "    ackNum = 0\n",
    "    payload = [b'00000000'] * 1024\n",
    "    divisor = [b'1001']\n",
    "\n",
    "    print(f\"Connected to 127\")\n",
    "\n",
    "    # Handshake\n",
    "    # - Send Sync Request\n",
    "    syncPacket = bytes(buildPacket(sync=1))\n",
    "    sent = s.send(syncPacket)\n",
    "\n",
    "    # - Receive Sync Ack\n",
    "    ackPacket = s.recv(2048)\n",
    "    flags, otherSeq, otherAck, otherPayload = separateData(ackPacket)\n",
    "    ackNum = otherAck\n",
    "    print(otherAck)\n",
    "\n",
    "    # - Send Sync Ack\n",
    "    ackPacket = bytes(buildPacket(ack=1, ackNum=ackNum, seqNum=seqNum))\n",
    "    seqNum += 1\n",
    "    sent = s.send(ackPacket)\n",
    "\n",
    "    while True:\n",
    "        cnt = 0\n",
    "\n",
    "        # Send Data\n",
    "        print(\"sending payload\")\n",
    "        payloadPiece = bytes(buildPacket(ackNum=ackNum, seqNum=seqNum, payload=int(msgBin[seqNum - 1: seqNum + 1023], base = 2)))\n",
    "        sent = s.send(payloadPiece)\n",
    "\n",
    "        # Wait for acknowledgement\n",
    "        print(\"waiting for ack\")\n",
    "        resp = s.recv(2048)\n",
    "        # print(resp)\n",
    "        flags, otherSeq, otherAck, otherPayload = separateData(resp)\n",
    "\n",
    "        seqNum = otherAck\n",
    "\n",
    "        if seqNum >= len(msg_byte):\n",
    "            print(\"Finished sending data\")\n",
    "            s.send(bytes(buildPacket(fin = 1)))\n",
    "            s.close()\n",
    "            break\n",
    "\n",
    "        # time.sleep(3)\n"
   ],
   "outputs": [
    {
     "output_type": "stream",
     "name": "stdout",
     "text": [
      "Connected to 127\n",
      "1\n",
      "sending payload\n",
      "waiting for ack\n",
      "Finished sending data\n"
     ]
    }
   ],
   "metadata": {}
  },
  {
   "cell_type": "code",
   "execution_count": 410,
   "source": [
    "s.close()"
   ],
   "outputs": [],
   "metadata": {}
  },
  {
   "cell_type": "code",
   "execution_count": 153,
   "source": [
    "x=bytearray(bytes(2))\n",
    "x.append(2)\n",
    "# x.pop()\n",
    "x[-1]"
   ],
   "outputs": [
    {
     "output_type": "execute_result",
     "data": {
      "text/plain": [
       "2"
      ]
     },
     "metadata": {},
     "execution_count": 153
    }
   ],
   "metadata": {}
  }
 ],
 "metadata": {
  "orig_nbformat": 4,
  "language_info": {
   "name": "python",
   "version": "3.7.3",
   "mimetype": "text/x-python",
   "codemirror_mode": {
    "name": "ipython",
    "version": 3
   },
   "pygments_lexer": "ipython3",
   "nbconvert_exporter": "python",
   "file_extension": ".py"
  },
  "kernelspec": {
   "name": "python3",
   "display_name": "Python 3.7.3 64-bit"
  },
  "interpreter": {
   "hash": "31f2aee4e71d21fbe5cf8b01ff0e069b9275f58929596ceb00d14d90e3e16cd6"
  }
 },
 "nbformat": 4,
 "nbformat_minor": 2
}