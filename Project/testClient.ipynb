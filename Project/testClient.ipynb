{
 "cells": [
  {
   "cell_type": "code",
   "execution_count": 104,
   "source": [
    "import socket\n",
    "import random\n",
    "import numpy as np\n",
    "import matplotlib.pyplot as plt\n",
    "import time"
   ],
   "outputs": [],
   "metadata": {}
  },
  {
   "cell_type": "code",
   "execution_count": 159,
   "source": [
    "image = []\n",
    "\n",
    "with open(\"umdlogo.jpg\", \"rb\") as jpg:\n",
    "    \n",
    "    while True:\n",
    "        image = jpg.read()\n",
    "        break\n",
    "        # byteLine = jpg.readline()\n",
    "        # if byteLine:\n",
    "\n",
    "        #     image.append(byteLine)\n",
    "        # else:\n",
    "        #     break"
   ],
   "outputs": [],
   "metadata": {}
  },
  {
   "cell_type": "code",
   "execution_count": 352,
   "source": [
    "test = \"hello world!\"\n",
    "empty = \"\"\n",
    "for character in test:\n",
    "    empty += f\"{(ord(character)):08b}\""
   ],
   "outputs": [],
   "metadata": {}
  },
  {
   "cell_type": "code",
   "execution_count": 354,
   "source": [
    "int(empty,base=2)"
   ],
   "outputs": [
    {
     "output_type": "execute_result",
     "data": {
      "text/plain": [
       "32309054545037006034346730529"
      ]
     },
     "metadata": {},
     "execution_count": 354
    }
   ],
   "metadata": {}
  },
  {
   "cell_type": "code",
   "execution_count": 355,
   "source": [
    "def strToBin(msg: str):\n",
    "    binRep = \"\"\n",
    "\n",
    "    for character in msg:\n",
    "        binRep += f\"{(ord(character)):08b}\"\n",
    "\n",
    "    return binRep"
   ],
   "outputs": [],
   "metadata": {}
  },
  {
   "cell_type": "code",
   "execution_count": 362,
   "source": [
    "int(strToBin(\"hello\")[0:4], base=2)"
   ],
   "outputs": [
    {
     "output_type": "execute_result",
     "data": {
      "text/plain": [
       "6"
      ]
     },
     "metadata": {},
     "execution_count": 362
    }
   ],
   "metadata": {}
  },
  {
   "cell_type": "code",
   "execution_count": 574,
   "source": [
    "def separateData(packet):\n",
    "    stringPacket = [f\"{packByte:08b}\" for packByte in packet]\n",
    "    flags = stringPacket[0]\n",
    "    seqNum = int(\"\".join(stringPacket[1:5]), base = 2)\n",
    "    ackNum = int(\"\".join(stringPacket[5:9]), base = 2)\n",
    "    payload = \"\".join(stringPacket[9:-1])\n",
    "    return (flags, seqNum, ackNum, payload)\n"
   ],
   "outputs": [],
   "metadata": {}
  },
  {
   "cell_type": "code",
   "execution_count": 563,
   "source": [
    "def getCRC(binCode, divisor):\n",
    "    payload = list(binCode) + ([0]*(len(divisor)-1))\n",
    "    payload = [int(n) for n in payload]\n",
    "    divisor = [int(n) for n in list(divisor)]\n",
    "    remainder = []\n",
    "    pointer = 0\n",
    "\n",
    "    while pointer <= len(payload) - len(divisor):\n",
    "        #Extract slice to subtract\n",
    "        val = payload[pointer: pointer + len(divisor)]\n",
    "        \n",
    "        #Subtract paired values\n",
    "        operations = zip(val, divisor)\n",
    "        remainder = [abs(op[0] - op[1]) for op in operations]\n",
    "        \n",
    "        #Modify payload values, set pointer to index\n",
    "        for i in range(len(divisor)):\n",
    "            payload[pointer + i] = remainder[i]\n",
    "        \n",
    "        #Move pointer to next non-zero value\n",
    "        pointer = payload.index(1)\n",
    "    return \"\".join([str(val) for val in remainder])[1:]"
   ],
   "outputs": [],
   "metadata": {}
  },
  {
   "cell_type": "code",
   "execution_count": 569,
   "source": [
    "def checkCRC(binCode, divisor):\n",
    "    stringPacket = [f\"{packByte:08b}\" for packByte in binCode]\n",
    "    payload = []\n",
    "    for byteSection in stringPacket:\n",
    "        payload += byteSection\n",
    "    payload = [int(n) for n in payload]\n",
    "    divisor = [int(n) for n in list(divisor)]\n",
    "    remainder = []\n",
    "    pointer = 0\n",
    "\n",
    "    while pointer <= len(payload) - len(divisor):\n",
    "        #Extract slice to subtract\n",
    "        val = payload[pointer: pointer + len(divisor)]\n",
    "        \n",
    "        #Subtract paired values\n",
    "        operations = zip(val, divisor)\n",
    "        remainder = [abs(op[0] - op[1]) for op in operations]\n",
    "        \n",
    "        #Modify payload values, set pointer to index\n",
    "        for i in range(len(divisor)):\n",
    "            payload[pointer + i] = remainder[i]\n",
    "        \n",
    "        #Move pointer to next non-zero value\n",
    "        if 1 not in payload:\n",
    "            return 0\n",
    "        pointer = payload.index(1)\n",
    "\n",
    "    return int(\"\".join([str(val) for val in remainder])[1:])"
   ],
   "outputs": [],
   "metadata": {}
  },
  {
   "cell_type": "code",
   "execution_count": 565,
   "source": [
    "def buildPacket(sync = 0, ack = 0, fin = 0, seqNum = 0, ackNum = 0, payload = 0, divisor = \"000000000\"):\n",
    "    flags = f\"000{ack}00{sync}{fin}\"\n",
    "    stringPacket = flags + f\"{seqNum:032b}\" + f\"{ackNum:032b}\" + f\"{payload:01024b}\"\n",
    "    CRC = \"\"\n",
    "    if int(divisor) > 0:\n",
    "        CRC = getCRC(stringPacket, divisor)\n",
    "    else:\n",
    "        CRC = \"00000000\"\n",
    "    stringPacket += CRC\n",
    "    \n",
    "    listPacket = np.array([val for val in stringPacket]).reshape(int(np.ceil(len(stringPacket)/8)),8)\n",
    "    intPacket = [int(\"\".join(listByte), base = 2) for listByte in listPacket]\n",
    "\n",
    "    return intPacket"
   ],
   "outputs": [],
   "metadata": {}
  },
  {
   "cell_type": "code",
   "execution_count": 566,
   "source": [
    "def reconstructHeader(packet, low, high):\n",
    "    headerVal = int(\"\".join([f\"{packByte:08b}\" for packByte in packet[low:high]]), base = 2)\n",
    "    return headerVal"
   ],
   "outputs": [],
   "metadata": {}
  },
  {
   "cell_type": "code",
   "execution_count": 581,
   "source": [
    "with socket.socket(socket.AF_INET, socket.SOCK_STREAM) as s:\n",
    "    s.bind((\"localhost\", 8081))\n",
    "    s.connect((\"localhost\", 8001))\n",
    "    msg_send = input(\"Enter a message\")\n",
    "    msgBin = strToBin(msg_send)\n",
    "\n",
    "    # Define some packet info\n",
    "    seqNum = 0\n",
    "    ackNum = 0\n",
    "    divisor = '100000110'\n",
    "\n",
    "    print(f\"Connected to 127\")\n",
    "\n",
    "    # Handshake\n",
    "    # - Send Sync Request\n",
    "    syncPacket = bytes(buildPacket(sync=1))\n",
    "    sent = s.send(syncPacket)\n",
    "\n",
    "    # - Receive Sync Ack\n",
    "    ackPacket = s.recv(2048)\n",
    "    flags, otherSeq, otherAck, otherPayload = separateData(ackPacket)\n",
    "    ackNum = otherAck\n",
    "    print(otherAck)\n",
    "\n",
    "    # - Send Sync Ack\n",
    "    ackPacket = bytes(buildPacket(ack=1, ackNum=ackNum, seqNum=seqNum))\n",
    "    seqNum += 1\n",
    "    sent = s.send(ackPacket)\n",
    "\n",
    "    while True:\n",
    "        cnt = 0\n",
    "\n",
    "        # Send Data\n",
    "        print(\"sending payload\")\n",
    "        payloadPiece = bytes(buildPacket(ackNum=ackNum, seqNum=seqNum, payload=int(msgBin[seqNum - 1: seqNum + 1023], base = 2), divisor=divisor))\n",
    "        sent = s.send(payloadPiece)\n",
    "\n",
    "        # Wait for acknowledgement\n",
    "        print(\"waiting for ack\")\n",
    "        resp = s.recv(2048)\n",
    "        # print(resp)\n",
    "        flags, otherSeq, otherAck, otherPayload = separateData(resp)\n",
    "\n",
    "        seqNum = otherAck\n",
    "\n",
    "        if seqNum >= len(msg_byte):\n",
    "            print(\"Finished sending data\")\n",
    "            s.send(bytes(buildPacket(fin = 1, divisor=divisor)))\n",
    "            s.close()\n",
    "            break\n",
    "\n",
    "        # time.sleep(3)\n"
   ],
   "outputs": [
    {
     "output_type": "stream",
     "name": "stdout",
     "text": [
      "Connected to 127\n",
      "1\n",
      "sending payload\n",
      "waiting for ack\n",
      "sending payload\n",
      "waiting for ack\n",
      "sending payload\n",
      "waiting for ack\n",
      "sending payload\n",
      "waiting for ack\n",
      "sending payload\n",
      "waiting for ack\n",
      "sending payload\n",
      "waiting for ack\n",
      "sending payload\n",
      "waiting for ack\n",
      "sending payload\n",
      "waiting for ack\n",
      "sending payload\n",
      "waiting for ack\n",
      "sending payload\n",
      "waiting for ack\n",
      "sending payload\n",
      "waiting for ack\n",
      "sending payload\n",
      "waiting for ack\n",
      "sending payload\n",
      "waiting for ack\n",
      "sending payload\n",
      "waiting for ack\n",
      "sending payload\n",
      "waiting for ack\n",
      "sending payload\n",
      "waiting for ack\n",
      "sending payload\n",
      "waiting for ack\n",
      "sending payload\n",
      "waiting for ack\n",
      "sending payload\n",
      "waiting for ack\n",
      "sending payload\n",
      "waiting for ack\n",
      "sending payload\n",
      "waiting for ack\n",
      "sending payload\n",
      "waiting for ack\n",
      "sending payload\n",
      "waiting for ack\n",
      "sending payload\n",
      "waiting for ack\n",
      "sending payload\n",
      "waiting for ack\n",
      "sending payload\n",
      "waiting for ack\n",
      "sending payload\n",
      "waiting for ack\n",
      "Finished sending data\n"
     ]
    }
   ],
   "metadata": {}
  },
  {
   "cell_type": "code",
   "execution_count": 578,
   "source": [
    "s.close()"
   ],
   "outputs": [],
   "metadata": {}
  },
  {
   "cell_type": "code",
   "execution_count": 560,
   "source": [
    "checkCRC(bytes(buildPacket(ackNum=ackNum, seqNum=seqNum, payload=1024, divisor=\"100000110\")), \"100000110\")"
   ],
   "outputs": [
    {
     "output_type": "stream",
     "name": "stdout",
     "text": [
      "crc [0, 0, 1, 1, 1, 1, 0, 1, 0]\n",
      "0000000000000000000000000000000000000001000000000000000000000000000000010000000000000000000000000000000000000000000000000000000000000000000000000000000000000000000000000000000000000000000000000000000000000000000000000000000000000000000000000000000000000000000000000000000000000000000000000000000000000000000000000000000000000000000000000000000000000000000000000000000000000000000000000000000000000000000000000000000000000000000000000000000000000000000000000000000000000000000000000000000000000000000000000000000000000000000000000000000000000000000000000000000000000000000000000000000000000000000000000000000000000000000000000000000000000000000000000000000000000000000000000000000000000000000000000000000000000000000000000000000000000000000000000000000000000000000000000000000000000000000000000000000000000000000000000000000000000000000000000000000000000000000000000000000000000000000000000000000000000000000000000000000000000000000000000000000000000000000000000000000000000000000000000000000000000000000000000000000000000000000000000000000000000000000000000000000000000000000000000000010000000000\n",
      "000000000000000000000000000000000000000100000000000000000000000000000001000000000000000000000000000000000000000000000000000000000000000000000000000000000000000000000000000000000000000000000000000000000000000000000000000000000000000000000000000000000000000000000000000000000000000000000000000000000000000000000000000000000000000000000000000000000000000000000000000000000000000000000000000000000000000000000000000000000000000000000000000000000000000000000000000000000000000000000000000000000000000000000000000000000000000000000000000000000000000000000000000000000000000000000000000000000000000000000000000000000000000000000000000000000000000000000000000000000000000000000000000000000000000000000000000000000000000000000000000000000000000000000000000000000000000000000000000000000000000000000000000000000000000000000000000000000000000000000000000000000000000000000000000000000000000000000000000000000000000000000000000000000000000000000000000000000000000000000000000000000000000000000000000000000000000000000000000000000000000000000000000000000000000000000000000000000000000000000000000001000000000001111010\n"
     ]
    },
    {
     "output_type": "error",
     "ename": "ValueError",
     "evalue": "1 is not in list",
     "traceback": [
      "\u001b[0;31m---------------------------------------------------------------------------\u001b[0m",
      "\u001b[0;31mValueError\u001b[0m                                Traceback (most recent call last)",
      "\u001b[0;32m<ipython-input-560-5de93d937db6>\u001b[0m in \u001b[0;36m<module>\u001b[0;34m\u001b[0m\n\u001b[0;32m----> 1\u001b[0;31m \u001b[0mcheckCRC\u001b[0m\u001b[0;34m(\u001b[0m\u001b[0mbytes\u001b[0m\u001b[0;34m(\u001b[0m\u001b[0mbuildPacket\u001b[0m\u001b[0;34m(\u001b[0m\u001b[0mackNum\u001b[0m\u001b[0;34m=\u001b[0m\u001b[0mackNum\u001b[0m\u001b[0;34m,\u001b[0m \u001b[0mseqNum\u001b[0m\u001b[0;34m=\u001b[0m\u001b[0mseqNum\u001b[0m\u001b[0;34m,\u001b[0m \u001b[0mpayload\u001b[0m\u001b[0;34m=\u001b[0m\u001b[0;36m1024\u001b[0m\u001b[0;34m,\u001b[0m \u001b[0mdivisor\u001b[0m\u001b[0;34m=\u001b[0m\u001b[0;34m\"100000110\"\u001b[0m\u001b[0;34m)\u001b[0m\u001b[0;34m)\u001b[0m\u001b[0;34m,\u001b[0m \u001b[0;34m\"100000110\"\u001b[0m\u001b[0;34m)\u001b[0m\u001b[0;34m\u001b[0m\u001b[0;34m\u001b[0m\u001b[0m\n\u001b[0m",
      "\u001b[0;32m<ipython-input-547-24ff26afc060>\u001b[0m in \u001b[0;36mcheckCRC\u001b[0;34m(binCode, divisor)\u001b[0m\n\u001b[1;32m     22\u001b[0m \u001b[0;34m\u001b[0m\u001b[0m\n\u001b[1;32m     23\u001b[0m         \u001b[0;31m#Move pointer to next non-zero value\u001b[0m\u001b[0;34m\u001b[0m\u001b[0;34m\u001b[0m\u001b[0;34m\u001b[0m\u001b[0m\n\u001b[0;32m---> 24\u001b[0;31m         \u001b[0mpointer\u001b[0m \u001b[0;34m=\u001b[0m \u001b[0mpayload\u001b[0m\u001b[0;34m.\u001b[0m\u001b[0mindex\u001b[0m\u001b[0;34m(\u001b[0m\u001b[0;36m1\u001b[0m\u001b[0;34m)\u001b[0m\u001b[0;34m\u001b[0m\u001b[0;34m\u001b[0m\u001b[0m\n\u001b[0m\u001b[1;32m     25\u001b[0m     \u001b[0mprint\u001b[0m\u001b[0;34m(\u001b[0m\u001b[0;34m\"crc\"\u001b[0m\u001b[0;34m,\u001b[0m \u001b[0mremainder\u001b[0m\u001b[0;34m)\u001b[0m\u001b[0;34m\u001b[0m\u001b[0;34m\u001b[0m\u001b[0m\n\u001b[1;32m     26\u001b[0m     \u001b[0;32mreturn\u001b[0m \u001b[0;34m(\u001b[0m\u001b[0;34m\"\"\u001b[0m\u001b[0;34m.\u001b[0m\u001b[0mjoin\u001b[0m\u001b[0;34m(\u001b[0m\u001b[0;34m[\u001b[0m\u001b[0mstr\u001b[0m\u001b[0;34m(\u001b[0m\u001b[0mval\u001b[0m\u001b[0;34m)\u001b[0m \u001b[0;32mfor\u001b[0m \u001b[0mval\u001b[0m \u001b[0;32min\u001b[0m \u001b[0mremainder\u001b[0m\u001b[0;34m]\u001b[0m\u001b[0;34m)\u001b[0m\u001b[0;34m[\u001b[0m\u001b[0;36m1\u001b[0m\u001b[0;34m:\u001b[0m\u001b[0;34m]\u001b[0m\u001b[0;34m)\u001b[0m\u001b[0;34m\u001b[0m\u001b[0;34m\u001b[0m\u001b[0m\n",
      "\u001b[0;31mValueError\u001b[0m: 1 is not in list"
     ]
    }
   ],
   "metadata": {}
  }
 ],
 "metadata": {
  "orig_nbformat": 4,
  "language_info": {
   "name": "python",
   "version": "3.7.3",
   "mimetype": "text/x-python",
   "codemirror_mode": {
    "name": "ipython",
    "version": 3
   },
   "pygments_lexer": "ipython3",
   "nbconvert_exporter": "python",
   "file_extension": ".py"
  },
  "kernelspec": {
   "name": "python3",
   "display_name": "Python 3.7.3 64-bit"
  },
  "interpreter": {
   "hash": "31f2aee4e71d21fbe5cf8b01ff0e069b9275f58929596ceb00d14d90e3e16cd6"
  }
 },
 "nbformat": 4,
 "nbformat_minor": 2
}